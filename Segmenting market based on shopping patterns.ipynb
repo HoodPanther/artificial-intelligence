{
 "cells": [
  {
   "cell_type": "code",
   "execution_count": 1,
   "metadata": {
    "collapsed": true
   },
   "outputs": [],
   "source": [
    "import csv \n",
    " \n",
    "import numpy as np \n",
    "import matplotlib.pyplot as plt\n",
    "\n",
    "%matplotlib inline"
   ]
  },
  {
   "cell_type": "code",
   "execution_count": 2,
   "metadata": {
    "collapsed": true
   },
   "outputs": [],
   "source": [
    "from sklearn.cluster import MeanShift, estimate_bandwidth"
   ]
  },
  {
   "cell_type": "code",
   "execution_count": 3,
   "metadata": {
    "collapsed": true
   },
   "outputs": [],
   "source": [
    "# Load data from input file \n",
    "input_file = 'sales.csv' \n",
    "file_reader = csv.reader(open(input_file, 'r'), delimiter=',') "
   ]
  },
  {
   "cell_type": "code",
   "execution_count": 4,
   "metadata": {
    "collapsed": true
   },
   "outputs": [],
   "source": [
    "X = [] \n",
    "for count, row in enumerate(file_reader): \n",
    "    if not count: \n",
    "        names = row[1:] \n",
    "        continue \n",
    " \n",
    "    X.append([float(x) for x in row[1:]]) \n",
    " \n",
    "# Convert to numpy array \n",
    "X = np.array(X) "
   ]
  },
  {
   "cell_type": "code",
   "execution_count": 7,
   "metadata": {},
   "outputs": [
    {
     "data": {
      "text/plain": [
       "(440, 6)"
      ]
     },
     "execution_count": 7,
     "metadata": {},
     "output_type": "execute_result"
    }
   ],
   "source": [
    "X.shape"
   ]
  },
  {
   "cell_type": "code",
   "execution_count": 14,
   "metadata": {
    "collapsed": true
   },
   "outputs": [],
   "source": [
    "from sklearn.cluster import MeanShift, estimate_bandwidth\n",
    "\n",
    "# Estimating the bandwidth of input data\n",
    "bandwidth = estimate_bandwidth(X, quantile=0.2, n_samples=len(X))"
   ]
  },
  {
   "cell_type": "code",
   "execution_count": 15,
   "metadata": {},
   "outputs": [
    {
     "data": {
      "text/plain": [
       "12469.110735177452"
      ]
     },
     "execution_count": 15,
     "metadata": {},
     "output_type": "execute_result"
    }
   ],
   "source": [
    "bandwidth"
   ]
  },
  {
   "cell_type": "code",
   "execution_count": 16,
   "metadata": {},
   "outputs": [
    {
     "data": {
      "text/plain": [
       "MeanShift(bandwidth=12469.110735177452, bin_seeding=True, cluster_all=True,\n",
       "     min_bin_freq=1, n_jobs=1, seeds=None)"
      ]
     },
     "execution_count": 16,
     "metadata": {},
     "output_type": "execute_result"
    }
   ],
   "source": [
    "# Compute clustering with MeanShift\n",
    "meanshift_model = MeanShift(bandwidth=bandwidth, bin_seeding=True)\n",
    "meanshift_model.fit(X)"
   ]
  },
  {
   "cell_type": "code",
   "execution_count": 17,
   "metadata": {},
   "outputs": [
    {
     "name": "stdout",
     "output_type": "stream",
     "text": [
      "\n",
      "Number of clusters in input data = 16\n"
     ]
    }
   ],
   "source": [
    "labels = meanshift_model.labels_\n",
    "cluster_centers = meanshift_model.cluster_centers_\n",
    "num_clusters = len(np.unique(labels))\n",
    "\n",
    "print(\"\\nNumber of clusters in input data =\", num_clusters)"
   ]
  },
  {
   "cell_type": "code",
   "execution_count": 19,
   "metadata": {},
   "outputs": [
    {
     "data": {
      "text/plain": [
       "['Tshirt', 'Tank top', 'Halter top', 'Turtleneck', 'Tube top', 'Sweater']"
      ]
     },
     "execution_count": 19,
     "metadata": {},
     "output_type": "execute_result"
    }
   ],
   "source": [
    "names"
   ]
  },
  {
   "cell_type": "code",
   "execution_count": 18,
   "metadata": {},
   "outputs": [
    {
     "name": "stdout",
     "output_type": "stream",
     "text": [
      "\n",
      "Centers of clusters:\n",
      "Tsh\tTan\tHal\tTur\tTub\tSwe\n",
      "7696\t3426\t4540\t2225\t1468\t1015\n",
      "68560\t3908\t9980\t12750\t794\t1804\n",
      "18106\t1283\t22450\t5128\t4089\t14762\n",
      "38741\t40539\t20120\t35059\t255\t50710\n",
      "28333\t34263\t24065\t5575\t4229\t18076\n",
      "22617\t77873\t32543\t1005\t21035\t837\n",
      "104972\t29186\t19415\t16016\t5060\t9372\n",
      "10306\t3294\t1956\t38106\t67\t2757\n",
      "21417\t8727\t35953\t42\t13453\t4135\n",
      "14987\t46397\t97393\t1127\t37315\t3235\n",
      "7852\t4939\t63081\t134\t40066\t1332\n",
      "42032\t49822\t58556\t7085\t22688\t6081\n",
      "35314\t16745\t12775\t66900\t1298\t5613\n",
      "86\t21109\t46969\t36\t22724\t1497\n",
      "41204\t5525\t8119\t6457\t1576\t14621\n",
      "35147\t38576\t53761\t2976\t26660\t2170\n"
     ]
    }
   ],
   "source": [
    "print(\"\\nCenters of clusters:\")\n",
    "print('\\t'.join([name[:3] for name in names]))\n",
    "for cluster_center in cluster_centers:\n",
    "    print('\\t'.join([str(int(x)) for x in cluster_center]))"
   ]
  },
  {
   "cell_type": "code",
   "execution_count": 20,
   "metadata": {
    "collapsed": true
   },
   "outputs": [],
   "source": [
    "# Extract two features for visualization \n",
    "cluster_centers_2d = cluster_centers[:, 1:3]"
   ]
  },
  {
   "cell_type": "code",
   "execution_count": 21,
   "metadata": {},
   "outputs": [
    {
     "data": {
      "image/png": "[encoded data removed]",
      "text/plain": [
       "<matplotlib.figure.Figure at 0x21bbcdabc18>"
      ]
     },
     "metadata": {},
     "output_type": "display_data"
    }
   ],
   "source": [
    "plt.figure()\n",
    "plt.scatter(cluster_centers_2d[:,0], cluster_centers_2d[:,1], \n",
    "        s=120, edgecolors='black', facecolors='none')\n",
    "\n",
    "offset = 0.25\n",
    "plt.xlim(cluster_centers_2d[:,0].min() - offset * cluster_centers_2d[:,0].ptp(),\n",
    "        cluster_centers_2d[:,0].max() + offset * cluster_centers_2d[:,0].ptp(),)\n",
    "plt.ylim(cluster_centers_2d[:,1].min() - offset * cluster_centers_2d[:,1].ptp(),\n",
    "        cluster_centers_2d[:,1].max() + offset * cluster_centers_2d[:,1].ptp())\n",
    "\n",
    "plt.title('Centers of 2D clusters')\n",
    "plt.show()"
   ]
  },
  {
   "cell_type": "code",
   "execution_count": 23,
   "metadata": {},
   "outputs": [
    {
     "data": {
      "text/plain": [
       "array([ 0,  0,  0,  0,  0,  0,  0,  0,  0,  0,  0,  0, 14,  2,  2,  0,  0,\n",
       "        0,  0,  0,  0,  0, 14,  4,  2,  0,  0,  0,  8, 14,  0,  0,  0, 14,\n",
       "        0,  0, 14,  0,  0,  1, 14,  0,  0,  0,  0,  8,  0, 11,  0, 13,  0,\n",
       "        0, 14,  0,  0,  0, 13,  0,  0,  0,  0, 15,  0,  0,  0, 13,  0,  0,\n",
       "        0,  0,  0,  2,  0,  0,  0,  0,  0,  8,  0,  0,  0,  0,  0,  0,  0,\n",
       "        9,  5, 14,  0,  0,  0,  0, 13,  7,  0,  0,  0,  0,  0,  0,  0,  0,\n",
       "        0,  1,  0,  0,  0,  0,  0,  8,  0,  0,  0,  0,  0,  0,  0,  0,  0,\n",
       "        0,  0,  0,  0,  0, 14,  1,  0,  0,  0, 14,  0,  0,  0,  0,  0,  0,\n",
       "        0,  0,  0,  0,  0, 14, 14,  0,  0,  8,  0,  0,  0, 14,  0,  0,  0,\n",
       "        0,  0,  0,  0,  0,  0,  0,  0,  0,  0,  8,  0,  2,  0,  0,  0,  0,\n",
       "        0, 13,  0,  0,  0,  0, 14,  0,  0,  0,  0,  6,  0,  3,  0,  0,  0,\n",
       "        0,  0,  0,  0,  0,  0,  0,  0,  0, 14,  0,  0,  0,  0,  8, 14,  0,\n",
       "        0,  0,  0,  0,  0,  0,  0, 13,  0,  0,  0,  0, 13,  0,  0,  0,  0,\n",
       "        0,  0,  0,  0,  0,  0,  0,  0,  0,  0,  0, 14,  0,  0,  0,  0,  0,\n",
       "        0, 14,  0,  0,  0,  0,  0,  0,  0,  0,  0,  0,  0, 13,  0, 14,  0,\n",
       "       14,  0,  0,  1,  1,  0,  0,  0,  0,  0,  0,  0,  0,  0,  0,  0,  0,\n",
       "        0, 14,  0,  0, 14,  0,  0,  0,  0,  0, 14,  0,  1, 14,  0,  0,  0,\n",
       "       14,  0,  0,  0,  0,  0,  0,  0,  0,  0,  0,  0,  0,  0,  0,  8,  0,\n",
       "        0,  0,  0,  0,  0, 14,  0,  0,  0,  0,  0,  0,  0,  4,  0,  0,  0,\n",
       "        0, 14, 12,  0,  0,  0,  0,  0,  8,  0, 10,  0, 14,  0,  0,  0,  0,\n",
       "        0,  0,  0,  8,  0,  0,  0, 14,  0,  0,  0,  8,  0,  0,  0,  0,  0,\n",
       "        0,  0,  0,  0,  0,  0,  0,  0,  0,  0,  0,  0,  0, 14,  0,  0,  0,\n",
       "        0,  0,  0, 14,  0,  0,  0,  0, 14,  0,  0,  0,  0,  0,  0,  0,  0,\n",
       "        0,  0,  0,  0,  0,  0,  0,  0,  0,  0,  0,  0,  0,  0,  0,  0,  0,\n",
       "        0,  0,  0,  0,  0,  0,  0,  0,  0,  0,  0,  0,  0,  0, 14,  0,  0,\n",
       "        0,  0, 14,  0,  0,  0,  0,  0,  0,  0, 14, 14,  8,  0,  0], dtype=int64)"
      ]
     },
     "execution_count": 23,
     "metadata": {},
     "output_type": "execute_result"
    }
   ],
   "source": [
    "meanshift_model.labels_"
   ]
  },
  {
   "cell_type": "code",
   "execution_count": null,
   "metadata": {
    "collapsed": true
   },
   "outputs": [],
   "source": []
  },
  {
   "cell_type": "code",
   "execution_count": null,
   "metadata": {
    "collapsed": true
   },
   "outputs": [],
   "source": []
  }
 ],
 "metadata": {
  "kernelspec": {
   "display_name": "Python 3",
   "language": "python",
   "name": "python3"
  },
  "language_info": {
   "codemirror_mode": {
    "name": "ipython",
    "version": 3
   },
   "file_extension": ".py",
   "mimetype": "text/x-python",
   "name": "python",
   "nbconvert_exporter": "python",
   "pygments_lexer": "ipython3",
   "version": "3.5.0"
  }
 },
 "nbformat": 4,
 "nbformat_minor": 2
}
