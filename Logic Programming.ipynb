{
 "cells": [
  {
   "cell_type": "code",
   "execution_count": 54,
   "metadata": {},
   "outputs": [],
   "source": [
    "from kanren import run, var, fact, membero, conde, Relation, facts"
   ]
  },
  {
   "cell_type": "code",
   "execution_count": 4,
   "metadata": {
    "collapsed": true
   },
   "outputs": [],
   "source": [
    "import kanren.assoccomm as la"
   ]
  },
  {
   "cell_type": "code",
   "execution_count": 5,
   "metadata": {
    "collapsed": true
   },
   "outputs": [],
   "source": [
    "# Define mathematical operations \n",
    "add = 'addition' \n",
    "mul = 'multiplication' "
   ]
  },
  {
   "cell_type": "code",
   "execution_count": 8,
   "metadata": {},
   "outputs": [],
   "source": [
    "#Declare that these ops are commutative\n",
    "#using fact systems\n",
    "fact(la.commutative, mul)\n",
    "fact(la.commutative, add) \n",
    "fact(la.associative, mul) \n",
    "fact(la.associative, add)"
   ]
  },
  {
   "cell_type": "code",
   "execution_count": 9,
   "metadata": {
    "collapsed": true
   },
   "outputs": [],
   "source": [
    "# Define some variables \n",
    "a, b, c = var('a'), var('b'), var('c') "
   ]
  },
  {
   "cell_type": "markdown",
   "metadata": {},
   "source": [
    "* expression_orig = 3 x (-2) + (1 + 2 x 3) x (-1)\n",
    "* expression1 = (1 + 2 x a) x b + 3 x c\n",
    "* expression2 = c x 3 + b x (2 x a + 1)\n",
    "* expression3 = (((2 x a) x b) + b) + 3 x c"
   ]
  },
  {
   "cell_type": "code",
   "execution_count": 11,
   "metadata": {
    "collapsed": true
   },
   "outputs": [],
   "source": [
    "expression_orig = (add, (mul, 3, -2), (mul, (add, 1, (mul, 2, 3)), -1)) \n",
    "expression1 = (add, (mul, (add, 1, (mul, 2, a)), b), (mul, 3, c)) \n",
    "expression2 = (add, (mul, c, 3), (mul, b, (add, (mul, 2, a), 1))) \n",
    "expression3 = (add, (add, (mul, (mul, 2, a), b), b), (mul, 3, c))"
   ]
  },
  {
   "cell_type": "code",
   "execution_count": 12,
   "metadata": {},
   "outputs": [
    {
     "name": "stdout",
     "output_type": "stream",
     "text": [
      "((3, -1, -2),)\n"
     ]
    }
   ],
   "source": [
    "print(run(0, (a, b, c), la.eq_assoccomm(expression1, expression_orig))) "
   ]
  },
  {
   "cell_type": "code",
   "execution_count": 14,
   "metadata": {},
   "outputs": [
    {
     "name": "stdout",
     "output_type": "stream",
     "text": [
      "((3, -1, -2),)\n"
     ]
    }
   ],
   "source": [
    "print(run(0, (a, b, c), la.eq_assoccomm(expression2, expression_orig))) "
   ]
  },
  {
   "cell_type": "code",
   "execution_count": 23,
   "metadata": {
    "collapsed": true
   },
   "outputs": [],
   "source": [
    "import kanren.core as lc"
   ]
  },
  {
   "cell_type": "code",
   "execution_count": 24,
   "metadata": {
    "collapsed": true
   },
   "outputs": [],
   "source": [
    "from sympy.ntheory.generate import prime, isprime "
   ]
  },
  {
   "cell_type": "code",
   "execution_count": 25,
   "metadata": {
    "collapsed": true
   },
   "outputs": [],
   "source": [
    "# Check if the elements of x are prime  \n",
    "def check_prime(x): \n",
    "    if lc.isvar(x): \n",
    "        return lc.condeseq([(lc.eq, x, p)] for p in map(prime, it.count(1))) \n",
    "    else: \n",
    "        return lc.success if isprime(x) else lc.fail "
   ]
  },
  {
   "cell_type": "code",
   "execution_count": 26,
   "metadata": {},
   "outputs": [
    {
     "name": "stdout",
     "output_type": "stream",
     "text": [
      "Help on function success in module kanren.core:\n",
      "\n",
      "success(s)\n",
      "\n"
     ]
    }
   ],
   "source": [
    "help(lc.success)"
   ]
  },
  {
   "cell_type": "code",
   "execution_count": 27,
   "metadata": {
    "collapsed": true
   },
   "outputs": [],
   "source": [
    "list_nums = (23, 4, 27, 17, 13, 10, 21, 29, 3, 32, 11, 19) "
   ]
  },
  {
   "cell_type": "code",
   "execution_count": 33,
   "metadata": {},
   "outputs": [],
   "source": [
    "# Declae the variable \n",
    "x = lc.var() \n"
   ]
  },
  {
   "cell_type": "code",
   "execution_count": 35,
   "metadata": {},
   "outputs": [
    {
     "data": {
      "text/plain": [
       "{'father': [{'John': 'William'},\n",
       "  {'John': 'David'},\n",
       "  {'John': 'Adam'},\n",
       "  {'William': 'Chris'},\n",
       "  {'William': 'Stephanie'},\n",
       "  {'David': 'Wayne'},\n",
       "  {'David': 'Tiffany'},\n",
       "  {'David': 'Julie'},\n",
       "  {'David': 'Neil'},\n",
       "  {'David': 'Peter'},\n",
       "  {'Adam': 'Sophia'}],\n",
       " 'mother': [{'Megan': 'William'},\n",
       "  {'Megan': 'David'},\n",
       "  {'Megan': 'Adam'},\n",
       "  {'Emma': 'Stephanie'},\n",
       "  {'Emma': 'Chris'},\n",
       "  {'Olivia': 'Tiffany'},\n",
       "  {'Olivia': 'Julie'},\n",
       "  {'Olivia': 'Neil'},\n",
       "  {'Olivia': 'Peter'},\n",
       "  {'Lily': 'Sophia'}]}"
      ]
     },
     "execution_count": 35,
     "metadata": {},
     "output_type": "execute_result"
    }
   ],
   "source": [
    "{ \n",
    "      \"father\":  \n",
    "      [ \n",
    "            {\"John\": \"William\"}, \n",
    "            {\"John\": \"David\"}, \n",
    "            {\"John\": \"Adam\"}, \n",
    "            {\"William\": \"Chris\"}, \n",
    "            {\"William\": \"Stephanie\"}, \n",
    "            {\"David\": \"Wayne\"}, \n",
    "            {\"David\": \"Tiffany\"}, \n",
    "            {\"David\": \"Julie\"}, \n",
    "            {\"David\": \"Neil\"}, \n",
    "            {\"David\": \"Peter\"}, \n",
    "            {\"Adam\": \"Sophia\"} \n",
    "      ], \n",
    "      \"mother\":  \n",
    "      [ \n",
    "            {\"Megan\": \"William\"}, \n",
    "            {\"Megan\": \"David\"}, \n",
    "            {\"Megan\": \"Adam\"}, \n",
    "            {\"Emma\": \"Stephanie\"}, \n",
    "            {\"Emma\": \"Chris\"}, \n",
    "            {\"Olivia\": \"Tiffany\"}, \n",
    "            {\"Olivia\": \"Julie\"}, \n",
    "            {\"Olivia\": \"Neil\"}, \n",
    "            {\"Olivia\": \"Peter\"}, \n",
    "            {\"Lily\": \"Sophia\"} \n",
    "      ] \n",
    "} "
   ]
  },
  {
   "cell_type": "code",
   "execution_count": 36,
   "metadata": {
    "collapsed": true
   },
   "outputs": [],
   "source": [
    "# Check if 'x' is the parent of 'y' \n",
    "def parent(x, y): \n",
    "    return conde([father(x, y)], [mother(x, y)]) "
   ]
  },
  {
   "cell_type": "code",
   "execution_count": 39,
   "metadata": {},
   "outputs": [
    {
     "name": "stdout",
     "output_type": "stream",
     "text": [
      "Help on function conde in module kanren.core:\n",
      "\n",
      "conde(*goalseqs)\n",
      "    Logical cond\n",
      "    \n",
      "    Goal constructor to provides logical AND and OR\n",
      "    \n",
      "    conde((A, B, C), (D, E)) means (A and B and C) or (D and E)\n",
      "    Equivalent to the (A, B, C); (D, E) syntax in Prolog.\n",
      "    \n",
      "    See Also:\n",
      "        lall - logical all\n",
      "        lany - logical any\n",
      "\n"
     ]
    }
   ],
   "source": [
    "help(conde)"
   ]
  },
  {
   "cell_type": "code",
   "execution_count": 40,
   "metadata": {
    "collapsed": true
   },
   "outputs": [],
   "source": [
    "import json "
   ]
  },
  {
   "cell_type": "code",
   "execution_count": 41,
   "metadata": {
    "collapsed": true
   },
   "outputs": [],
   "source": [
    "# Check if 'x' is the parent of 'y' \n",
    "def parent(x, y): \n",
    "    return conde([father(x, y)], [mother(x, y)]) "
   ]
  },
  {
   "cell_type": "code",
   "execution_count": 42,
   "metadata": {
    "collapsed": true
   },
   "outputs": [],
   "source": [
    "# Check if 'x' is the grandparent of 'y' \n",
    "def grandparent(x, y): \n",
    "    temp = var() \n",
    "    return conde((parent(x, temp), parent(temp, y))) "
   ]
  },
  {
   "cell_type": "code",
   "execution_count": 43,
   "metadata": {
    "collapsed": true
   },
   "outputs": [],
   "source": [
    "# Check for sibling relationship between 'a' and 'b'   \n",
    "def sibling(x, y): \n",
    "    temp = var() \n",
    "    return conde((parent(temp, x), parent(temp, y))) "
   ]
  },
  {
   "cell_type": "code",
   "execution_count": 44,
   "metadata": {
    "collapsed": true
   },
   "outputs": [],
   "source": [
    "# Check if x is y's uncle \n",
    "def uncle(x, y): \n",
    "    temp = var() \n",
    "    return conde((father(temp, x), grandparent(temp, y))) "
   ]
  },
  {
   "cell_type": "code",
   "execution_count": 47,
   "metadata": {},
   "outputs": [],
   "source": [
    "if __name__=='__main__': \n",
    "    father = Relation() \n",
    "    mother = Relation() "
   ]
  },
  {
   "cell_type": "code",
   "execution_count": 50,
   "metadata": {},
   "outputs": [],
   "source": [
    " with open('relationships.json') as f: \n",
    "        d = json.loads(f.read()) "
   ]
  },
  {
   "cell_type": "code",
   "execution_count": 51,
   "metadata": {},
   "outputs": [
    {
     "data": {
      "text/plain": [
       "{'father': [{'John': 'William'},\n",
       "  {'John': 'David'},\n",
       "  {'John': 'Adam'},\n",
       "  {'William': 'Chris'},\n",
       "  {'William': 'Stephanie'},\n",
       "  {'David': 'Wayne'},\n",
       "  {'David': 'Tiffany'},\n",
       "  {'David': 'Julie'},\n",
       "  {'David': 'Neil'},\n",
       "  {'David': 'Peter'},\n",
       "  {'Adam': 'Sophia'}],\n",
       " 'mother': [{'Megan': 'William'},\n",
       "  {'Megan': 'David'},\n",
       "  {'Megan': 'Adam'},\n",
       "  {'Emma': 'Stephanie'},\n",
       "  {'Emma': 'Chris'},\n",
       "  {'Olivia': 'Tiffany'},\n",
       "  {'Olivia': 'Julie'},\n",
       "  {'Olivia': 'Neil'},\n",
       "  {'Olivia': 'Peter'},\n",
       "  {'Lily': 'Sophia'}]}"
      ]
     },
     "execution_count": 51,
     "metadata": {},
     "output_type": "execute_result"
    }
   ],
   "source": [
    "d"
   ]
  },
  {
   "cell_type": "code",
   "execution_count": 55,
   "metadata": {},
   "outputs": [],
   "source": [
    "for item in d['father']: \n",
    "        facts(father, (list(item.keys())[0], list(item.values())[0])) \n"
   ]
  },
  {
   "cell_type": "code",
   "execution_count": 56,
   "metadata": {
    "collapsed": true
   },
   "outputs": [],
   "source": [
    "x = var()"
   ]
  },
  {
   "cell_type": "code",
   "execution_count": 59,
   "metadata": {},
   "outputs": [
    {
     "name": "stdout",
     "output_type": "stream",
     "text": [
      "\n",
      "List of John's children:\n",
      "David\n",
      "Adam\n",
      "William\n"
     ]
    }
   ],
   "source": [
    " # John's children \n",
    "name = 'John' \n",
    "output = run(0, x, father(name, x)) \n",
    "print(\"\\nList of \" + name + \"'s children:\") \n",
    "for item in output: \n",
    "    print(item)"
   ]
  },
  {
   "cell_type": "code",
   "execution_count": null,
   "metadata": {
    "collapsed": true
   },
   "outputs": [],
   "source": [
    "Who is William's mother?\n",
    "Who are Adam's parents?"
   ]
  }
 ],
 "metadata": {
  "kernelspec": {
   "display_name": "Python 3",
   "language": "python",
   "name": "python3"
  },
  "language_info": {
   "codemirror_mode": {
    "name": "ipython",
    "version": 3
   },
   "file_extension": ".py",
   "mimetype": "text/x-python",
   "name": "python",
   "nbconvert_exporter": "python",
   "pygments_lexer": "ipython3",
   "version": "3.5.0"
  }
 },
 "nbformat": 4,
 "nbformat_minor": 2
}
