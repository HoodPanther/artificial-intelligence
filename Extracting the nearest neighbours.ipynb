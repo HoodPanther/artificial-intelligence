{
 "cells": [
  {
   "cell_type": "code",
   "execution_count": 6,
   "metadata": {
    "collapsed": true
   },
   "outputs": [],
   "source": [
    "import numpy as np \n",
    "import matplotlib.pyplot as plt \n",
    "from sklearn.neighbors import NearestNeighbors\n",
    "%matplotlib inline"
   ]
  },
  {
   "cell_type": "code",
   "execution_count": 2,
   "metadata": {
    "collapsed": true
   },
   "outputs": [],
   "source": [
    "# Input data \n",
    "X = np.array([[2.1, 1.3], [1.3, 3.2], [2.9, 2.5], [2.7, 5.4], [3.8, 0.9],  \n",
    "        [7.3, 2.1], [4.2, 6.5], [3.8, 3.7], [2.5, 4.1], [3.4, 1.9], \n",
    "        [5.7, 3.5], [6.1, 4.3], [5.1, 2.2], [6.2, 1.1]]) "
   ]
  },
  {
   "cell_type": "code",
   "execution_count": 3,
   "metadata": {
    "collapsed": true
   },
   "outputs": [],
   "source": [
    "# Number of nearest neighbors \n",
    "k = 5 "
   ]
  },
  {
   "cell_type": "code",
   "execution_count": 4,
   "metadata": {
    "collapsed": true
   },
   "outputs": [],
   "source": [
    "# Test datapoint  \n",
    "test_datapoint = [4.3, 2.7]"
   ]
  },
  {
   "cell_type": "code",
   "execution_count": 7,
   "metadata": {},
   "outputs": [
    {
     "data": {
      "text/plain": [
       "<matplotlib.collections.PathCollection at 0x1f33a7057f0>"
      ]
     },
     "execution_count": 7,
     "metadata": {},
     "output_type": "execute_result"
    },
    {
     "data": {
      "image/png": "[encoded data removed]",
      "text/plain": [
       "<matplotlib.figure.Figure at 0x1f33a4b9f60>"
      ]
     },
     "metadata": {},
     "output_type": "display_data"
    }
   ],
   "source": [
    "# Plot input data  \n",
    "plt.figure() \n",
    "plt.title('Input data') \n",
    "plt.scatter(X[:,0], X[:,1], marker='o', s=75, color='black') "
   ]
  },
  {
   "cell_type": "code",
   "execution_count": 10,
   "metadata": {},
   "outputs": [],
   "source": [
    "# Build K Nearest Neighbors model \n",
    "knn_model = NearestNeighbors(n_neighbors=k, algorithm='ball_tree').fit(X) \n",
    "distances, indices = knn_model.kneighbors([test_datapoint]) "
   ]
  },
  {
   "cell_type": "code",
   "execution_count": 11,
   "metadata": {},
   "outputs": [
    {
     "name": "stdout",
     "output_type": "stream",
     "text": [
      "\n",
      "K Nearest Neighbors:\n",
      "1 ==> [ 5.1  2.2]\n",
      "2 ==> [ 3.8  3.7]\n",
      "3 ==> [ 3.4  1.9]\n",
      "4 ==> [ 2.9  2.5]\n",
      "5 ==> [ 5.7  3.5]\n"
     ]
    }
   ],
   "source": [
    "# Print the 'k' nearest neighbors \n",
    "print(\"\\nK Nearest Neighbors:\") \n",
    "for rank, index in enumerate(indices[0][:k], start=1): \n",
    "    print(str(rank) + \" ==>\", X[index]) "
   ]
  },
  {
   "cell_type": "code",
   "execution_count": 12,
   "metadata": {},
   "outputs": [
    {
     "data": {
      "image/png": "[encoded data removed]",
      "text/plain": [
       "<matplotlib.figure.Figure at 0x1f33a73b8d0>"
      ]
     },
     "metadata": {},
     "output_type": "display_data"
    }
   ],
   "source": [
    "# Visualize the nearest neighbors along with the test datapoint  \n",
    "plt.figure() \n",
    "plt.title('Nearest neighbors') \n",
    "plt.scatter(X[:, 0], X[:, 1], marker='o', s=75, color='k') \n",
    "plt.scatter(X[indices][0][:][:, 0], X[indices][0][:][:, 1],  \n",
    "        marker='o', s=250, color='k', facecolors='none') \n",
    "plt.scatter(test_datapoint[0], test_datapoint[1], \n",
    "        marker='x', s=75, color='k') \n",
    " \n",
    "plt.show() "
   ]
  },
  {
   "cell_type": "code",
   "execution_count": null,
   "metadata": {
    "collapsed": true
   },
   "outputs": [],
   "source": []
  }
 ],
 "metadata": {
  "kernelspec": {
   "display_name": "Python 3",
   "language": "python",
   "name": "python3"
  },
  "language_info": {
   "codemirror_mode": {
    "name": "ipython",
    "version": 3
   },
   "file_extension": ".py",
   "mimetype": "text/x-python",
   "name": "python",
   "nbconvert_exporter": "python",
   "pygments_lexer": "ipython3",
   "version": "3.5.0"
  }
 },
 "nbformat": 4,
 "nbformat_minor": 2
}
